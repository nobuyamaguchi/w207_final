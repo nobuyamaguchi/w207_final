{
 "cells": [
  {
   "cell_type": "code",
   "execution_count": 28,
   "metadata": {},
   "outputs": [],
   "source": [
    "import pandas as pd\n",
    "import numpy as np\n",
    "import matplotlib.pyplot as plt\n",
    "import seaborn as sns\n",
    "from matplotlib.ticker import MultipleLocator\n",
    "from sklearn.pipeline import Pipeline\n",
    "from sklearn.datasets import fetch_openml\n",
    "from sklearn.neighbors import KNeighborsClassifier\n",
    "from sklearn.metrics import confusion_matrix\n",
    "from sklearn.linear_model import LinearRegression\n",
    "from sklearn.naive_bayes import BernoulliNB\n",
    "from sklearn.naive_bayes import MultinomialNB\n",
    "from sklearn.naive_bayes import GaussianNB\n",
    "from sklearn.model_selection import GridSearchCV\n",
    "from sklearn.metrics import classification_report\n",
    "# SK-learn libraries for learning.\n",
    "from sklearn.pipeline import Pipeline\n",
    "from sklearn.neighbors import KNeighborsClassifier\n",
    "from sklearn.linear_model import LogisticRegression\n",
    "from sklearn.naive_bayes import BernoulliNB\n",
    "from sklearn.naive_bayes import MultinomialNB\n",
    "\n",
    "# SK-learn libraries for evaluation.\n",
    "from sklearn.metrics import confusion_matrix\n",
    "from sklearn import metrics\n",
    "from sklearn.metrics import classification_report\n",
    "\n",
    "# Set the randomizer seed so results are the same each time.\n",
    "np.random.seed(0)"
   ]
  },
  {
   "cell_type": "code",
   "execution_count": 17,
   "metadata": {},
   "outputs": [
    {
     "name": "stdout",
     "output_type": "stream",
     "text": [
      "data set shape: (15120, 53)\n",
      "training label shape: (7560, 52)\n",
      "dev label shape: (7560, 52)\n",
      "labels names: ['1. Spruce/Fir', '2. Lodgepole Pine', '3. Ponderosa Pine', '4. Cottonwood/Willow', '5. Aspen', '6. Douglas-fir', '7. Krummholz']\n"
     ]
    }
   ],
   "source": [
    "Forest_data = pd.read_csv(\"../data/train.csv\") \n",
    "Forest_data.pop('Id')\n",
    "Forest_data.pop('Soil_Type7')\n",
    "Forest_data.pop('Soil_Type15')\n",
    "print('data set shape:', Forest_data.shape)\n",
    "\n",
    "Cover_Types = ['1. Spruce/Fir', '2. Lodgepole Pine', '3. Ponderosa Pine', \n",
    "               '4. Cottonwood/Willow', '5. Aspen', '6. Douglas-fir', '7. Krummholz']\n",
    "num_dev = int(len(Forest_data.Cover_Type) / 2)\n",
    "Forest_train, train_labels = Forest_data[:num_dev].drop(columns=['Cover_Type']), Forest_data.Cover_Type[:num_dev]\n",
    "Forest_dev, dev_labels = Forest_data[num_dev:].drop(columns=['Cover_Type']), Forest_data.Cover_Type[num_dev:]\n",
    "\n",
    "print('training label shape:', Forest_train.shape)\n",
    "print('dev label shape:',      Forest_dev.shape)\n",
    "print('labels names:',         Cover_Types)"
   ]
  },
  {
   "cell_type": "markdown",
   "metadata": {},
   "source": [
    "### Baseline: KNN"
   ]
  },
  {
   "cell_type": "code",
   "execution_count": 18,
   "metadata": {},
   "outputs": [
    {
     "name": "stdout",
     "output_type": "stream",
     "text": [
      "1-NN Model Performance: total: 7560  correct: 3970  accuracy: 0.53\n",
      "              precision    recall  f1-score   support\n",
      "\n",
      "           1       0.36      0.51      0.42      1369\n",
      "           2       0.33      0.59      0.43      1014\n",
      "           3       0.66      0.49      0.56      1037\n",
      "           4       0.81      0.97      0.88       540\n",
      "           5       0.61      0.60      0.61       882\n",
      "           6       0.64      0.46      0.54      1015\n",
      "           7       0.79      0.38      0.51      1703\n",
      "\n",
      "   micro avg       0.53      0.53      0.53      7560\n",
      "   macro avg       0.60      0.57      0.56      7560\n",
      "weighted avg       0.59      0.53      0.53      7560\n",
      "\n",
      "3-NN Model Performance: total: 7560  correct: 3959  accuracy: 0.52\n",
      "5-NN Model Performance: total: 7560  correct: 3927  accuracy: 0.52\n",
      "7-NN Model Performance: total: 7560  correct: 3834  accuracy: 0.51\n",
      "9-NN Model Performance: total: 7560  correct: 3821  accuracy: 0.51\n"
     ]
    }
   ],
   "source": [
    "k_values = [1, 3, 5, 7, 9]\n",
    "for i in k_values:\n",
    "    model = KNeighborsClassifier(n_neighbors = i)\n",
    "    model.fit(Forest_train, train_labels)\n",
    "    test_predicted_labels = model.predict(Forest_dev)\n",
    "\n",
    "    # calculate accuracy\n",
    "    correct, total = 0, 0\n",
    "    for pred, label in zip(test_predicted_labels, dev_labels):\n",
    "        if pred == label: correct += 1\n",
    "        total += 1\n",
    "    print ('%1d-NN Model Performance: total: %3d  correct: %3d  accuracy: %3.2f' %(i, total, correct, 1.0*correct/total))\n",
    "\n",
    "    # show precision, recall, and F1 for each label for 1-NN model\n",
    "    if i == 1:\n",
    "        print(classification_report(dev_labels, test_predicted_labels))\n",
    "\n",
    "        "
   ]
  },
  {
   "cell_type": "code",
   "execution_count": 29,
   "metadata": {},
   "outputs": [
    {
     "name": "stdout",
     "output_type": "stream",
     "text": [
      "3. Logistic Regression Models\n",
      "When C=0.001, Logistic Regression Model accuracy: 0.47 f1_score: 0.46\n",
      "When C=0.01, Logistic Regression Model accuracy: 0.51 f1_score: 0.49\n",
      "When C=0.1, Logistic Regression Model accuracy: 0.56 f1_score: 0.55\n",
      "When C=0.5, Logistic Regression Model accuracy: 0.57 f1_score: 0.56\n",
      "When C=1, Logistic Regression Model accuracy: 0.59 f1_score: 0.58\n",
      "When C=10, Logistic Regression Model accuracy: 0.59 f1_score: 0.58\n",
      "When C=100, Logistic Regression Model accuracy: 0.58 f1_score: 0.57\n",
      "When C=1000, Logistic Regression Model accuracy: 0.57 f1_score: 0.57\n"
     ]
    }
   ],
   "source": [
    "print('3. Logistic Regression Models')\n",
    "L2_strengths = [0.001, 0.01, 0.1, 0.5, 1, 10, 100, 1000]\n",
    "for c in L2_strengths:\n",
    "    model = LogisticRegression(C=c, solver=\"liblinear\", multi_class=\"auto\")\n",
    "    model.fit(Forest_train, train_labels)\n",
    "    test_predicted_labels = model.predict(Forest_dev)\n",
    "    print('When C=' + str(c) + ', Logistic Regression Model accuracy: %3.2f f1_score: %3.2f' \n",
    "           %(model.score(Forest_dev, dev_labels), \n",
    "             metrics.f1_score(dev_labels, test_predicted_labels, average=\"weighted\")))"
   ]
  },
  {
   "cell_type": "code",
   "execution_count": 21,
   "metadata": {},
   "outputs": [
    {
     "name": "stdout",
     "output_type": "stream",
     "text": [
      "2. Naive Bayes Models\n"
     ]
    },
    {
     "ename": "ValueError",
     "evalue": "Input X must be non-negative",
     "output_type": "error",
     "traceback": [
      "\u001b[0;31m---------------------------------------------------------------------------\u001b[0m",
      "\u001b[0;31mValueError\u001b[0m                                Traceback (most recent call last)",
      "\u001b[0;32m<ipython-input-21-4e8eac2213e5>\u001b[0m in \u001b[0;36m<module>\u001b[0;34m\u001b[0m\n\u001b[1;32m      3\u001b[0m \u001b[0;32mfor\u001b[0m \u001b[0malpha\u001b[0m \u001b[0;32min\u001b[0m \u001b[0malphas\u001b[0m\u001b[0;34m:\u001b[0m\u001b[0;34m\u001b[0m\u001b[0;34m\u001b[0m\u001b[0m\n\u001b[1;32m      4\u001b[0m     \u001b[0mmodel\u001b[0m \u001b[0;34m=\u001b[0m \u001b[0mMultinomialNB\u001b[0m\u001b[0;34m(\u001b[0m\u001b[0malpha\u001b[0m \u001b[0;34m=\u001b[0m \u001b[0malpha\u001b[0m\u001b[0;34m)\u001b[0m\u001b[0;34m\u001b[0m\u001b[0;34m\u001b[0m\u001b[0m\n\u001b[0;32m----> 5\u001b[0;31m     \u001b[0mmodel\u001b[0m\u001b[0;34m.\u001b[0m\u001b[0mfit\u001b[0m\u001b[0;34m(\u001b[0m\u001b[0mForest_train\u001b[0m\u001b[0;34m,\u001b[0m \u001b[0mtrain_labels\u001b[0m\u001b[0;34m)\u001b[0m\u001b[0;34m\u001b[0m\u001b[0;34m\u001b[0m\u001b[0m\n\u001b[0m\u001b[1;32m      6\u001b[0m     \u001b[0mtest_predicted_labels\u001b[0m \u001b[0;34m=\u001b[0m \u001b[0mmodel\u001b[0m\u001b[0;34m.\u001b[0m\u001b[0mpredict\u001b[0m\u001b[0;34m(\u001b[0m\u001b[0mForest_dev\u001b[0m\u001b[0;34m)\u001b[0m\u001b[0;34m\u001b[0m\u001b[0;34m\u001b[0m\u001b[0m\n\u001b[1;32m      7\u001b[0m     print ('When alpha=' + str(alpha) + ', MultinomialNB Model accuracy: %3.2f f1_score: %3.2f' \n",
      "\u001b[0;32m~/anaconda3/lib/python3.7/site-packages/sklearn/naive_bayes.py\u001b[0m in \u001b[0;36mfit\u001b[0;34m(self, X, y, sample_weight)\u001b[0m\n\u001b[1;32m    608\u001b[0m         self.feature_count_ = np.zeros((n_effective_classes, n_features),\n\u001b[1;32m    609\u001b[0m                                        dtype=np.float64)\n\u001b[0;32m--> 610\u001b[0;31m         \u001b[0mself\u001b[0m\u001b[0;34m.\u001b[0m\u001b[0m_count\u001b[0m\u001b[0;34m(\u001b[0m\u001b[0mX\u001b[0m\u001b[0;34m,\u001b[0m \u001b[0mY\u001b[0m\u001b[0;34m)\u001b[0m\u001b[0;34m\u001b[0m\u001b[0;34m\u001b[0m\u001b[0m\n\u001b[0m\u001b[1;32m    611\u001b[0m         \u001b[0malpha\u001b[0m \u001b[0;34m=\u001b[0m \u001b[0mself\u001b[0m\u001b[0;34m.\u001b[0m\u001b[0m_check_alpha\u001b[0m\u001b[0;34m(\u001b[0m\u001b[0;34m)\u001b[0m\u001b[0;34m\u001b[0m\u001b[0;34m\u001b[0m\u001b[0m\n\u001b[1;32m    612\u001b[0m         \u001b[0mself\u001b[0m\u001b[0;34m.\u001b[0m\u001b[0m_update_feature_log_prob\u001b[0m\u001b[0;34m(\u001b[0m\u001b[0malpha\u001b[0m\u001b[0;34m)\u001b[0m\u001b[0;34m\u001b[0m\u001b[0;34m\u001b[0m\u001b[0m\n",
      "\u001b[0;32m~/anaconda3/lib/python3.7/site-packages/sklearn/naive_bayes.py\u001b[0m in \u001b[0;36m_count\u001b[0;34m(self, X, Y)\u001b[0m\n\u001b[1;32m    712\u001b[0m         \u001b[0;34m\"\"\"Count and smooth feature occurrences.\"\"\"\u001b[0m\u001b[0;34m\u001b[0m\u001b[0;34m\u001b[0m\u001b[0m\n\u001b[1;32m    713\u001b[0m         \u001b[0;32mif\u001b[0m \u001b[0mnp\u001b[0m\u001b[0;34m.\u001b[0m\u001b[0many\u001b[0m\u001b[0;34m(\u001b[0m\u001b[0;34m(\u001b[0m\u001b[0mX\u001b[0m\u001b[0;34m.\u001b[0m\u001b[0mdata\u001b[0m \u001b[0;32mif\u001b[0m \u001b[0missparse\u001b[0m\u001b[0;34m(\u001b[0m\u001b[0mX\u001b[0m\u001b[0;34m)\u001b[0m \u001b[0;32melse\u001b[0m \u001b[0mX\u001b[0m\u001b[0;34m)\u001b[0m \u001b[0;34m<\u001b[0m \u001b[0;36m0\u001b[0m\u001b[0;34m)\u001b[0m\u001b[0;34m:\u001b[0m\u001b[0;34m\u001b[0m\u001b[0;34m\u001b[0m\u001b[0m\n\u001b[0;32m--> 714\u001b[0;31m             \u001b[0;32mraise\u001b[0m \u001b[0mValueError\u001b[0m\u001b[0;34m(\u001b[0m\u001b[0;34m\"Input X must be non-negative\"\u001b[0m\u001b[0;34m)\u001b[0m\u001b[0;34m\u001b[0m\u001b[0;34m\u001b[0m\u001b[0m\n\u001b[0m\u001b[1;32m    715\u001b[0m         \u001b[0mself\u001b[0m\u001b[0;34m.\u001b[0m\u001b[0mfeature_count_\u001b[0m \u001b[0;34m+=\u001b[0m \u001b[0msafe_sparse_dot\u001b[0m\u001b[0;34m(\u001b[0m\u001b[0mY\u001b[0m\u001b[0;34m.\u001b[0m\u001b[0mT\u001b[0m\u001b[0;34m,\u001b[0m \u001b[0mX\u001b[0m\u001b[0;34m)\u001b[0m\u001b[0;34m\u001b[0m\u001b[0;34m\u001b[0m\u001b[0m\n\u001b[1;32m    716\u001b[0m         \u001b[0mself\u001b[0m\u001b[0;34m.\u001b[0m\u001b[0mclass_count_\u001b[0m \u001b[0;34m+=\u001b[0m \u001b[0mY\u001b[0m\u001b[0;34m.\u001b[0m\u001b[0msum\u001b[0m\u001b[0;34m(\u001b[0m\u001b[0maxis\u001b[0m\u001b[0;34m=\u001b[0m\u001b[0;36m0\u001b[0m\u001b[0;34m)\u001b[0m\u001b[0;34m\u001b[0m\u001b[0;34m\u001b[0m\u001b[0m\n",
      "\u001b[0;31mValueError\u001b[0m: Input X must be non-negative"
     ]
    }
   ],
   "source": [
    "print('2. Naive Bayes Models')\n",
    "alphas = [1.0e-10, 0.0001, 0.001, 0.01, 0.1, 0.5, 1.0, 2.0, 10.0]\n",
    "for alpha in alphas:\n",
    "    model = MultinomialNB(alpha = alpha)\n",
    "    model.fit(Forest_train, train_labels)\n",
    "    test_predicted_labels = model.predict(Forest_dev)\n",
    "    print ('When alpha=' + str(alpha) + ', MultinomialNB Model accuracy: %3.2f f1_score: %3.2f' \n",
    "           %(model.score(Forest_dev, dev_labels), \n",
    "             metrics.f1_score(dev_labels, test_predicted_labels, average=\"weighted\")))"
   ]
  }
 ],
 "metadata": {
  "kernelspec": {
   "display_name": "Python 3",
   "language": "python",
   "name": "python3"
  },
  "language_info": {
   "codemirror_mode": {
    "name": "ipython",
    "version": 3
   },
   "file_extension": ".py",
   "mimetype": "text/x-python",
   "name": "python",
   "nbconvert_exporter": "python",
   "pygments_lexer": "ipython3",
   "version": "3.7.3"
  }
 },
 "nbformat": 4,
 "nbformat_minor": 2
}
