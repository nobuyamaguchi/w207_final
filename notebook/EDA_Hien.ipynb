{
 "cells": [
  {
   "cell_type": "markdown",
   "metadata": {},
   "source": [
    "## Forest Cover Type Prediction\n",
    "### W207 Spring 2020"
   ]
  },
  {
   "cell_type": "code",
   "execution_count": 156,
   "metadata": {},
   "outputs": [],
   "source": [
    "# This tells matplotlib not to try opening a new window for each plot.\n",
    "%matplotlib inline\n",
    "\n",
    "# General libraries.\n",
    "import re\n",
    "import numpy as np\n",
    "import pandas as pd\n",
    "import matplotlib.pyplot as plt\n",
    "\n",
    "# SK-learn libraries for learning.\n",
    "from sklearn.pipeline import Pipeline\n",
    "from sklearn.neighbors import KNeighborsClassifier\n",
    "from sklearn.linear_model import LogisticRegression\n",
    "from sklearn.naive_bayes import BernoulliNB\n",
    "from sklearn.naive_bayes import MultinomialNB\n",
    "\n",
    "# SK-learn libraries for evaluation.\n",
    "from sklearn.metrics import confusion_matrix\n",
    "from sklearn import metrics\n",
    "from sklearn.metrics import classification_report\n",
    "from scipy import stats"
   ]
  },
  {
   "cell_type": "code",
   "execution_count": 127,
   "metadata": {},
   "outputs": [],
   "source": [
    "# Data source: https://www.kaggle.com/c/forest-cover-type-prediction/overview\n",
    "# Load data\n",
    "\n",
    "train_path = '../data/train.csv'\n",
    "unlabeled_path = '../data/test.csv'\n",
    "train_csv = np.genfromtxt(train_path, delimiter=',', names=True)\n",
    "unlabeled_csv = np.genfromtxt(unlabeled_path, delimiter=',', names=True)\n",
    "\n",
    "# Extract feature and label strings\n",
    "feature_name = unlabeled_csv.dtype.names\n",
    "label_name = set(train_csv['Cover_Type'])\n",
    "\n",
    "# Convert from structured array to 2D\n",
    "unlabeled_data = unlabeled_csv.view((float, len(unlabeled_csv.dtype.names)))\n",
    "train_csv = train_csv.view((float, len(train_csv.dtype.names)))"
   ]
  },
  {
   "cell_type": "code",
   "execution_count": 140,
   "metadata": {},
   "outputs": [
    {
     "name": "stdout",
     "output_type": "stream",
     "text": [
      "training label shape: (9072,)\n",
      "dev label shape: (3024,)\n",
      "test label shape: (3024,)\n",
      "labels names: {1.0, 2.0, 3.0, 4.0, 5.0, 6.0, 7.0}\n",
      "number of features: 55\n",
      "feature names: ('Id', 'Elevation', 'Aspect', 'Slope', 'Horizontal_Distance_To_Hydrology', 'Vertical_Distance_To_Hydrology', 'Horizontal_Distance_To_Roadways', 'Hillshade_9am', 'Hillshade_Noon', 'Hillshade_3pm', 'Horizontal_Distance_To_Fire_Points', 'Wilderness_Area1', 'Wilderness_Area2', 'Wilderness_Area3', 'Wilderness_Area4', 'Soil_Type1', 'Soil_Type2', 'Soil_Type3', 'Soil_Type4', 'Soil_Type5', 'Soil_Type6', 'Soil_Type7', 'Soil_Type8', 'Soil_Type9', 'Soil_Type10', 'Soil_Type11', 'Soil_Type12', 'Soil_Type13', 'Soil_Type14', 'Soil_Type15', 'Soil_Type16', 'Soil_Type17', 'Soil_Type18', 'Soil_Type19', 'Soil_Type20', 'Soil_Type21', 'Soil_Type22', 'Soil_Type23', 'Soil_Type24', 'Soil_Type25', 'Soil_Type26', 'Soil_Type27', 'Soil_Type28', 'Soil_Type29', 'Soil_Type30', 'Soil_Type31', 'Soil_Type32', 'Soil_Type33', 'Soil_Type34', 'Soil_Type35', 'Soil_Type36', 'Soil_Type37', 'Soil_Type38', 'Soil_Type39', 'Soil_Type40')\n"
     ]
    }
   ],
   "source": [
    "# Train, dev, test split (60/20/20)\n",
    "split1 = int(len(train_csv)* 0.60)\n",
    "split2 = int(split1 + (len(train_csv) - split1) / 2)\n",
    "\n",
    "train_data, train_labels = train_csv[:split1,:-1], train_csv[:split1,-1]\n",
    "dev_data, dev_labels     = train_csv[split1:split2,:-1], train_csv[split1:split2,-1]\n",
    "test_data, test_labels   = train_csv[split2:,:-1], train_csv[split2:,-1]\n",
    "\n",
    "\n",
    "print('training label shape:', train_labels.shape)\n",
    "print('dev label shape:',      dev_labels.shape)\n",
    "print('test label shape:',     test_labels.shape)\n",
    "print('labels names:',         label_name)\n",
    "print('number of features:',   len(feature_name))\n",
    "print('feature names:',        feature_name)"
   ]
  },
  {
   "cell_type": "code",
   "execution_count": 154,
   "metadata": {},
   "outputs": [
    {
     "data": {
      "text/plain": [
       "(9072, 54)"
      ]
     },
     "execution_count": 154,
     "metadata": {},
     "output_type": "execute_result"
    }
   ],
   "source": [
    "# Preprocessing\n",
    "\n",
    "# Delete first column (Id)\n",
    "a = np.delete(train_data, [0], axis = 1)\n",
    "b = np.delete(dev_data, [0], axis = 1)\n",
    "a.shape\n",
    "# train_labels.shape"
   ]
  },
  {
   "cell_type": "code",
   "execution_count": 158,
   "metadata": {},
   "outputs": [
    {
     "data": {
      "text/plain": [
       "array([[1.0000e+00, 2.5960e+03, 5.1000e+01, ..., 0.0000e+00, 0.0000e+00,\n",
       "        5.0000e+00],\n",
       "       [2.0000e+00, 2.5900e+03, 5.6000e+01, ..., 0.0000e+00, 0.0000e+00,\n",
       "        5.0000e+00],\n",
       "       [3.0000e+00, 2.8040e+03, 1.3900e+02, ..., 0.0000e+00, 0.0000e+00,\n",
       "        2.0000e+00],\n",
       "       ...,\n",
       "       [1.5118e+04, 2.4920e+03, 1.3400e+02, ..., 0.0000e+00, 0.0000e+00,\n",
       "        3.0000e+00],\n",
       "       [1.5119e+04, 2.4870e+03, 1.6700e+02, ..., 0.0000e+00, 0.0000e+00,\n",
       "        3.0000e+00],\n",
       "       [1.5120e+04, 2.4750e+03, 1.9700e+02, ..., 0.0000e+00, 0.0000e+00,\n",
       "        3.0000e+00]])"
      ]
     },
     "execution_count": 158,
     "metadata": {},
     "output_type": "execute_result"
    }
   ],
   "source": [
    "train_csv"
   ]
  },
  {
   "cell_type": "code",
   "execution_count": 155,
   "metadata": {},
   "outputs": [
    {
     "name": "stdout",
     "output_type": "stream",
     "text": [
      "The f1 score for 1-NN is 0.4893528130586446\n",
      "The f1 score for 4-NN is 0.49095188857334626\n",
      "The f1 score for 7-NN is 0.4947897780061162\n"
     ]
    }
   ],
   "source": [
    "# k-NN\n",
    "\n",
    "# search for an optimal value of K for KNN\n",
    "k_range = [1,4,7]\n",
    "\n",
    "# list of scores from k_range\n",
    "k_scores = []\n",
    "\n",
    "def KNN(k):\n",
    "    model = KNeighborsClassifier(n_neighbors=k)\n",
    "    model.fit(a, train_labels)\n",
    "    model_pred = model.predict(b)\n",
    "    return model_pred\n",
    "\n",
    "for k in k_range:\n",
    "    score = metrics.f1_score(dev_labels, KNN(k), average=\"weighted\")\n",
    "    k_scores.append(score)\n",
    "    print(\"The f1 score for {}-NN is {}\".format(k, score))"
   ]
  },
  {
   "cell_type": "code",
   "execution_count": null,
   "metadata": {},
   "outputs": [],
   "source": []
  }
 ],
 "metadata": {
  "kernelspec": {
   "display_name": "Python 3",
   "language": "python",
   "name": "python3"
  },
  "language_info": {
   "codemirror_mode": {
    "name": "ipython",
    "version": 3
   },
   "file_extension": ".py",
   "mimetype": "text/x-python",
   "name": "python",
   "nbconvert_exporter": "python",
   "pygments_lexer": "ipython3",
   "version": "3.7.4"
  }
 },
 "nbformat": 4,
 "nbformat_minor": 4
}
